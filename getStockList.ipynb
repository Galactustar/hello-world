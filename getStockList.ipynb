{
 "cells": [
  {
   "cell_type": "code",
   "execution_count": 1,
   "metadata": {},
   "outputs": [],
   "source": [
    "import csv\n",
    "import pandas as pd"
   ]
  },
  {
   "cell_type": "code",
   "execution_count": 2,
   "metadata": {},
   "outputs": [],
   "source": [
    "field=['A股代码','A股简称','A股上市日期','A股总股本','A股流通股本','所属行业']"
   ]
  },
  {
   "cell_type": "code",
   "execution_count": 3,
   "metadata": {},
   "outputs": [],
   "source": [
    "SZSE_A_List = pd.read_csv('SZSE-A.csv',usecols=field)"
   ]
  },
  {
   "cell_type": "code",
   "execution_count": 4,
   "metadata": {},
   "outputs": [],
   "source": [
    "SZSE_A_List['Symbols'] = SZSE_A_List['A股代码'].apply(lambda x:f\"{x:06n}.SZ\")"
   ]
  },
  {
   "cell_type": "code",
   "execution_count": 5,
   "metadata": {},
   "outputs": [],
   "source": [
    "# SZSE_A_List['Symbols'] = SZSE_A_List['A股代码'].map(\"{0:0=6d}\".format)+'.SZ'"
   ]
  },
  {
   "cell_type": "code",
   "execution_count": 6,
   "metadata": {},
   "outputs": [],
   "source": [
    "del SZSE_A_List['A股代码']"
   ]
  },
  {
   "cell_type": "code",
   "execution_count": 7,
   "metadata": {},
   "outputs": [],
   "source": [
    "SZSE_A_List.to_csv('SZSE_A_Short.csv', index=False, encoding='UTF-16')"
   ]
  },
  {
   "cell_type": "code",
   "execution_count": 8,
   "metadata": {},
   "outputs": [],
   "source": [
    "SZSE = pd.read_csv('SZSE_A_Short.csv', encoding='UTF-16')"
   ]
  },
  {
   "cell_type": "code",
   "execution_count": 9,
   "metadata": {},
   "outputs": [
    {
     "data": {
      "text/html": [
       "<div>\n",
       "<style scoped>\n",
       "    .dataframe tbody tr th:only-of-type {\n",
       "        vertical-align: middle;\n",
       "    }\n",
       "\n",
       "    .dataframe tbody tr th {\n",
       "        vertical-align: top;\n",
       "    }\n",
       "\n",
       "    .dataframe thead th {\n",
       "        text-align: right;\n",
       "    }\n",
       "</style>\n",
       "<table border=\"1\" class=\"dataframe\">\n",
       "  <thead>\n",
       "    <tr style=\"text-align: right;\">\n",
       "      <th></th>\n",
       "      <th>A股简称</th>\n",
       "      <th>A股上市日期</th>\n",
       "      <th>A股总股本</th>\n",
       "      <th>A股流通股本</th>\n",
       "      <th>所属行业</th>\n",
       "      <th>Symbols</th>\n",
       "    </tr>\n",
       "  </thead>\n",
       "  <tbody>\n",
       "    <tr>\n",
       "      <th>0</th>\n",
       "      <td>平安银行</td>\n",
       "      <td>1991-04-03</td>\n",
       "      <td>19,405,918,198</td>\n",
       "      <td>19,405,752,081</td>\n",
       "      <td>J 金融业</td>\n",
       "      <td>000001.SZ</td>\n",
       "    </tr>\n",
       "    <tr>\n",
       "      <th>1</th>\n",
       "      <td>万  科Ａ</td>\n",
       "      <td>1991-01-29</td>\n",
       "      <td>9,724,196,533</td>\n",
       "      <td>9,714,314,935</td>\n",
       "      <td>K 房地产</td>\n",
       "      <td>000002.SZ</td>\n",
       "    </tr>\n",
       "    <tr>\n",
       "      <th>2</th>\n",
       "      <td>国农科技</td>\n",
       "      <td>1990-12-01</td>\n",
       "      <td>165,052,625</td>\n",
       "      <td>83,918,684</td>\n",
       "      <td>I 信息技术</td>\n",
       "      <td>000004.SZ</td>\n",
       "    </tr>\n",
       "    <tr>\n",
       "      <th>3</th>\n",
       "      <td>世纪星源</td>\n",
       "      <td>1990-12-10</td>\n",
       "      <td>1,058,536,842</td>\n",
       "      <td>1,057,946,242</td>\n",
       "      <td>N 公共环保</td>\n",
       "      <td>000005.SZ</td>\n",
       "    </tr>\n",
       "    <tr>\n",
       "      <th>4</th>\n",
       "      <td>深振业Ａ</td>\n",
       "      <td>1992-04-27</td>\n",
       "      <td>1,349,995,046</td>\n",
       "      <td>1,348,307,972</td>\n",
       "      <td>K 房地产</td>\n",
       "      <td>000006.SZ</td>\n",
       "    </tr>\n",
       "    <tr>\n",
       "      <th>...</th>\n",
       "      <td>...</td>\n",
       "      <td>...</td>\n",
       "      <td>...</td>\n",
       "      <td>...</td>\n",
       "      <td>...</td>\n",
       "      <td>...</td>\n",
       "    </tr>\n",
       "    <tr>\n",
       "      <th>2243</th>\n",
       "      <td>新强联</td>\n",
       "      <td>2020-07-13</td>\n",
       "      <td>106,000,000</td>\n",
       "      <td>26,500,000</td>\n",
       "      <td>C 制造业</td>\n",
       "      <td>300850.SZ</td>\n",
       "    </tr>\n",
       "    <tr>\n",
       "      <th>2244</th>\n",
       "      <td>交大思诺</td>\n",
       "      <td>2020-07-17</td>\n",
       "      <td>86,933,400</td>\n",
       "      <td>21,733,400</td>\n",
       "      <td>I 信息技术</td>\n",
       "      <td>300851.SZ</td>\n",
       "    </tr>\n",
       "    <tr>\n",
       "      <th>2245</th>\n",
       "      <td>四会富仕</td>\n",
       "      <td>2020-07-13</td>\n",
       "      <td>56,628,200</td>\n",
       "      <td>14,160,000</td>\n",
       "      <td>C 制造业</td>\n",
       "      <td>300852.SZ</td>\n",
       "    </tr>\n",
       "    <tr>\n",
       "      <th>2246</th>\n",
       "      <td>图南股份</td>\n",
       "      <td>2020-07-23</td>\n",
       "      <td>200,000,000</td>\n",
       "      <td>50,000,000</td>\n",
       "      <td>C 制造业</td>\n",
       "      <td>300855.SZ</td>\n",
       "    </tr>\n",
       "    <tr>\n",
       "      <th>2247</th>\n",
       "      <td>科思股份</td>\n",
       "      <td>2020-07-22</td>\n",
       "      <td>112,880,000</td>\n",
       "      <td>28,220,000</td>\n",
       "      <td>C 制造业</td>\n",
       "      <td>300856.SZ</td>\n",
       "    </tr>\n",
       "  </tbody>\n",
       "</table>\n",
       "<p>2248 rows × 6 columns</p>\n",
       "</div>"
      ],
      "text/plain": [
       "       A股简称      A股上市日期           A股总股本          A股流通股本    所属行业    Symbols\n",
       "0      平安银行  1991-04-03  19,405,918,198  19,405,752,081   J 金融业  000001.SZ\n",
       "1     万  科Ａ  1991-01-29   9,724,196,533   9,714,314,935   K 房地产  000002.SZ\n",
       "2      国农科技  1990-12-01     165,052,625      83,918,684  I 信息技术  000004.SZ\n",
       "3      世纪星源  1990-12-10   1,058,536,842   1,057,946,242  N 公共环保  000005.SZ\n",
       "4      深振业Ａ  1992-04-27   1,349,995,046   1,348,307,972   K 房地产  000006.SZ\n",
       "...     ...         ...             ...             ...     ...        ...\n",
       "2243    新强联  2020-07-13     106,000,000      26,500,000   C 制造业  300850.SZ\n",
       "2244   交大思诺  2020-07-17      86,933,400      21,733,400  I 信息技术  300851.SZ\n",
       "2245   四会富仕  2020-07-13      56,628,200      14,160,000   C 制造业  300852.SZ\n",
       "2246   图南股份  2020-07-23     200,000,000      50,000,000   C 制造业  300855.SZ\n",
       "2247   科思股份  2020-07-22     112,880,000      28,220,000   C 制造业  300856.SZ\n",
       "\n",
       "[2248 rows x 6 columns]"
      ]
     },
     "execution_count": 9,
     "metadata": {},
     "output_type": "execute_result"
    }
   ],
   "source": [
    "SZSE"
   ]
  },
  {
   "cell_type": "code",
   "execution_count": null,
   "metadata": {},
   "outputs": [],
   "source": []
  }
 ],
 "metadata": {
  "kernelspec": {
   "display_name": "Python 3",
   "language": "python",
   "name": "python3"
  },
  "language_info": {
   "codemirror_mode": {
    "name": "ipython",
    "version": 3
   },
   "file_extension": ".py",
   "mimetype": "text/x-python",
   "name": "python",
   "nbconvert_exporter": "python",
   "pygments_lexer": "ipython3",
   "version": "3.8.3"
  }
 },
 "nbformat": 4,
 "nbformat_minor": 4
}

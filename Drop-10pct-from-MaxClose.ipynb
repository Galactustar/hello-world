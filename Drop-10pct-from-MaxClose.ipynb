{
 "cells": [
  {
   "cell_type": "code",
   "execution_count": 1,
   "metadata": {},
   "outputs": [],
   "source": [
    "import pandas as pd\n",
    "import pandas_datareader as pdr\n",
    "import pandas_datareader.data as web\n",
    "from datetime import date,timedelta\n",
    "#import yfinance as yf"
   ]
  },
  {
   "cell_type": "code",
   "execution_count": 2,
   "metadata": {},
   "outputs": [],
   "source": [
    "stock_names = ['688981.SS', '603138.SS', '900934.SS', '002078.SZ', '002281.SZ', '002294.SZ', '002372.SZ', '002407.SZ', '002585.SZ']"
   ]
  },
  {
   "cell_type": "code",
   "execution_count": 3,
   "metadata": {},
   "outputs": [],
   "source": [
    "# to get start date and end date. #the time slot lasts 4 days.\n",
    "ed = date.today()\n",
    "check_wd = ed.weekday()\n",
    "if check_wd > 5 :\n",
    "    ed_delta = check_wd - 5\n",
    "    ed = sd -timedelta(days=ed_delta)\n",
    "    sd_delta = 3\n",
    "elif check_wd < 4:\n",
    "    sd_delta = 3 + 2\n",
    "sd = ed - timedelta(days = sd_delta)"
   ]
  },
  {
   "cell_type": "code",
   "execution_count": 4,
   "metadata": {},
   "outputs": [],
   "source": [
    "## use yfinance while making sure the returned data is in the same format as pandas datareader's get_data_yahoo()\n",
    "#yf.pdr_override()"
   ]
  },
  {
   "cell_type": "code",
   "execution_count": 5,
   "metadata": {},
   "outputs": [],
   "source": [
    "# to get all data of the stocks in the list of stock_names. pls note that all_stock_data is a dictonary.\n",
    "all_stock_data = {ticker: web.get_data_yahoo(ticker,start = sd, end = ed) for ticker in stock_names}"
   ]
  },
  {
   "cell_type": "code",
   "execution_count": 6,
   "metadata": {},
   "outputs": [],
   "source": [
    "# to get a dataframe of all adjusted closing prices of the stocks.\n",
    "price = pd.DataFrame({ticker: data['Adj Close'] for ticker, data in all_stock_data.items()})"
   ]
  },
  {
   "cell_type": "code",
   "execution_count": 7,
   "metadata": {},
   "outputs": [],
   "source": [
    "# this is a pandas Series\n",
    "max_close_drop10p = price.max()*0.9"
   ]
  },
  {
   "cell_type": "code",
   "execution_count": 8,
   "metadata": {},
   "outputs": [
    {
     "name": "stdout",
     "output_type": "stream",
     "text": [
      "688981.SS    64.988999\n",
      "603138.SS    22.860000\n",
      "900934.SS     1.423800\n",
      "002078.SZ    10.674000\n",
      "002281.SZ    32.310001\n",
      "002294.SZ    33.308998\n",
      "002372.SZ    12.150000\n",
      "002407.SZ    11.151000\n",
      "002585.SZ     7.263000\n",
      "dtype: float64\n"
     ]
    }
   ],
   "source": [
    "print(max_close_drop10p)"
   ]
  },
  {
   "cell_type": "code",
   "execution_count": null,
   "metadata": {},
   "outputs": [],
   "source": []
  }
 ],
 "metadata": {
  "kernelspec": {
   "display_name": "Python 3",
   "language": "python",
   "name": "python3"
  },
  "language_info": {
   "codemirror_mode": {
    "name": "ipython",
    "version": 3
   },
   "file_extension": ".py",
   "mimetype": "text/x-python",
   "name": "python",
   "nbconvert_exporter": "python",
   "pygments_lexer": "ipython3",
   "version": "3.8.3"
  }
 },
 "nbformat": 4,
 "nbformat_minor": 4
}
